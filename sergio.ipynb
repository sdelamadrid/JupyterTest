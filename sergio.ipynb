{
 "cells": [
  {
   "cell_type": "markdown",
   "id": "b522a936",
   "metadata": {},
   "source": [
    "# Data Science Notebook"
   ]
  },
  {
   "cell_type": "markdown",
   "id": "3bb10e88",
   "metadata": {},
   "source": [
    "## Introduction\n",
    "This notebook contains basic information and exercises related to data science languages, libraries, tools, and arithmetic operations."
   ]
  },
  {
   "cell_type": "markdown",
   "id": "548c160e",
   "metadata": {},
   "source": [
    "## Data Science Languages\n",
    "- Python\n",
    "- R\n",
    "- SQL\n",
    "- Julia\n",
    "- Scala"
   ]
  },
  {
   "cell_type": "markdown",
   "id": "81a605a3",
   "metadata": {},
   "source": [
    "## Data Science Libraries\n",
    "- Pandas\n",
    "- NumPy\n",
    "- Matplotlib\n",
    "- SciPy\n",
    "- TensorFlow\n",
    "- Scikit-learn"
   ]
  },
  {
   "cell_type": "markdown",
   "id": "34cb38c1",
   "metadata": {},
   "source": [
    "## Data Science Tools\n",
    "| Tool | Description |\n",
    "|------|-------------|\n",
    "| Jupyter | Interactive notebooks for code and markdown |\n",
    "| RStudio | IDE for R |\n",
    "| Apache Spark | Distributed data processing |\n",
    "| TensorFlow | Deep learning framework |\n",
    "| Hadoop | Big data processing |"
   ]
  },
  {
   "cell_type": "markdown",
   "id": "6ef428e7",
   "metadata": {},
   "source": [
    "## Arithmetic Expression Examples\n",
    "Below are some examples of arithmetic expressions."
   ]
  },
  {
   "cell_type": "code",
   "execution_count": null,
   "id": "d837bb11",
   "metadata": {},
   "outputs": [],
   "source": [
    "x = (3 * 4) + 5\n",
    "x"
   ]
  },
  {
   "cell_type": "code",
   "execution_count": null,
   "id": "7f2e3dba",
   "metadata": {},
   "outputs": [],
   "source": [
    "minutes = 200\n",
    "hours = minutes / 60\n",
    "hours"
   ]
  },
  {
   "cell_type": "markdown",
   "id": "2cccbb0e",
   "metadata": {},
   "source": [
    "## Objectives\n",
    "- Learn basic data science languages\n",
    "- Understand popular data science libraries\n",
    "- Explore tools used in data science\n",
    "- Perform basic arithmetic operations"
   ]
  },
  {
   "cell_type": "markdown",
   "id": "710c60b8",
   "metadata": {},
   "source": [
    "## Author\n",
    "Sergio de Lamadrid"
   ]
  }
 ],
 "metadata": {
  "kernelspec": {
   "display_name": "Python 3",
   "language": "python",
   "name": "python3"
  },
  "language_info": {
   "name": "python",
   "version": "3.10.7"
  }
 },
 "nbformat": 4,
 "nbformat_minor": 5
}
